{
 "cells": [
  {
   "cell_type": "markdown",
   "id": "079226df-6aba-40fc-95e1-430b867d149d",
   "metadata": {},
   "source": [
    "## Exploring the Freelance AI Job Market: A Data Story\n",
    "As an AI student navigating the vast freelancing job market, I embarked on a journey to uncover trends, demands, and insights from real job postings. Instead of just showing graphs, this notebook tells a story—around skills, locations, salaries, and evolving roles from freelancers's point of view and company's—aiming to guide learning and career decisions with data-backed evidence.\n",
    "\n",
    "### Approach at a Glance\n",
    "This exploration uses scraped job posting data from freelancing platforms to decode market demands. The journey includes data cleaning, data preparation, skill extraction, title normalization, and analysis by job type, location, experience, and pay trends.\n",
    "\n",
    "Through visual and narrative insights, I will highlight what skills shine, where opportunities lie, and how roles are evolving in the AI job landscape."
   ]
  },
  {
   "cell_type": "code",
   "execution_count": 1,
   "id": "d2da82e9-7d8d-492c-a965-4cebf4ffa2b1",
   "metadata": {},
   "outputs": [],
   "source": [
    "import pandas as pd\n",
    "import matplotlib.pyplot as plt\n",
    "import numpy as np\n",
    "import seaborn as sns"
   ]
  },
  {
   "cell_type": "code",
   "execution_count": 2,
   "id": "a84f69a7-25f1-4ace-a839-66f77e7d9a72",
   "metadata": {},
   "outputs": [
    {
     "data": {
      "text/html": [
       "<div>\n",
       "<style scoped>\n",
       "    .dataframe tbody tr th:only-of-type {\n",
       "        vertical-align: middle;\n",
       "    }\n",
       "\n",
       "    .dataframe tbody tr th {\n",
       "        vertical-align: top;\n",
       "    }\n",
       "\n",
       "    .dataframe thead th {\n",
       "        text-align: right;\n",
       "    }\n",
       "</style>\n",
       "<table border=\"1\" class=\"dataframe\">\n",
       "  <thead>\n",
       "    <tr style=\"text-align: right;\">\n",
       "      <th></th>\n",
       "      <th>title</th>\n",
       "      <th>location</th>\n",
       "      <th>budget</th>\n",
       "      <th>job_type</th>\n",
       "      <th>experience</th>\n",
       "      <th>rating</th>\n",
       "      <th>skills</th>\n",
       "      <th>page</th>\n",
       "    </tr>\n",
       "  </thead>\n",
       "  <tbody>\n",
       "    <tr>\n",
       "      <th>0</th>\n",
       "      <td>Staff/Senior Software Engineer – Applied AI (H...</td>\n",
       "      <td>United States</td>\n",
       "      <td>$70.00</td>\n",
       "      <td>Hourly</td>\n",
       "      <td>Expert</td>\n",
       "      <td>5.0</td>\n",
       "      <td>Artificial Intelligence, Python, API, Machine ...</td>\n",
       "      <td>1</td>\n",
       "    </tr>\n",
       "    <tr>\n",
       "      <th>1</th>\n",
       "      <td>Expert AI/ML Engineer Needed for LLM Project D...</td>\n",
       "      <td>United States</td>\n",
       "      <td>$30.00</td>\n",
       "      <td>Hourly</td>\n",
       "      <td>Expert</td>\n",
       "      <td>5.0</td>\n",
       "      <td>Python, Machine Learning, Artificial Intellige...</td>\n",
       "      <td>1</td>\n",
       "    </tr>\n",
       "    <tr>\n",
       "      <th>2</th>\n",
       "      <td>Senior Backend Engineer – Queue/Scheduler, Tel...</td>\n",
       "      <td>United States</td>\n",
       "      <td>$20.00</td>\n",
       "      <td>Hourly</td>\n",
       "      <td>Expert</td>\n",
       "      <td>5.0</td>\n",
       "      <td>MongoDB, Python, Node.js, Celery, API, Twilio ...</td>\n",
       "      <td>1</td>\n",
       "    </tr>\n",
       "    <tr>\n",
       "      <th>3</th>\n",
       "      <td>AI Engineer Needed for Cloud Infrastructure Pl...</td>\n",
       "      <td>Pakistan</td>\n",
       "      <td>NaN</td>\n",
       "      <td>Hourly</td>\n",
       "      <td>Intermediate</td>\n",
       "      <td>NaN</td>\n",
       "      <td>Artificial Intelligence, Python, Google Cloud ...</td>\n",
       "      <td>1</td>\n",
       "    </tr>\n",
       "    <tr>\n",
       "      <th>4</th>\n",
       "      <td>Senior AI Engineer &amp; Automation Specialist</td>\n",
       "      <td>United States</td>\n",
       "      <td>$30.00</td>\n",
       "      <td>Fixed-price</td>\n",
       "      <td>Intermediate</td>\n",
       "      <td>5.0</td>\n",
       "      <td>Machine Learning, Artificial Intelligence, Dat...</td>\n",
       "      <td>1</td>\n",
       "    </tr>\n",
       "  </tbody>\n",
       "</table>\n",
       "</div>"
      ],
      "text/plain": [
       "                                               title       location  budget  \\\n",
       "0  Staff/Senior Software Engineer – Applied AI (H...  United States  $70.00   \n",
       "1  Expert AI/ML Engineer Needed for LLM Project D...  United States  $30.00   \n",
       "2  Senior Backend Engineer – Queue/Scheduler, Tel...  United States  $20.00   \n",
       "3  AI Engineer Needed for Cloud Infrastructure Pl...       Pakistan     NaN   \n",
       "4         Senior AI Engineer & Automation Specialist  United States  $30.00   \n",
       "\n",
       "      job_type    experience  rating  \\\n",
       "0       Hourly        Expert     5.0   \n",
       "1       Hourly        Expert     5.0   \n",
       "2       Hourly        Expert     5.0   \n",
       "3       Hourly  Intermediate     NaN   \n",
       "4  Fixed-price  Intermediate     5.0   \n",
       "\n",
       "                                              skills  page  \n",
       "0  Artificial Intelligence, Python, API, Machine ...     1  \n",
       "1  Python, Machine Learning, Artificial Intellige...     1  \n",
       "2  MongoDB, Python, Node.js, Celery, API, Twilio ...     1  \n",
       "3  Artificial Intelligence, Python, Google Cloud ...     1  \n",
       "4  Machine Learning, Artificial Intelligence, Dat...     1  "
      ]
     },
     "execution_count": 2,
     "metadata": {},
     "output_type": "execute_result"
    }
   ],
   "source": [
    "jobs = pd.read_csv(\"AI_freelance_jobs.csv\",index_col = False)\n",
    "jobs.head()"
   ]
  },
  {
   "cell_type": "code",
   "execution_count": 4,
   "id": "2e546b6e-a0e1-4af1-bc0a-dd57f1c8b1ff",
   "metadata": {},
   "outputs": [
    {
     "data": {
      "text/html": [
       "<div>\n",
       "<style scoped>\n",
       "    .dataframe tbody tr th:only-of-type {\n",
       "        vertical-align: middle;\n",
       "    }\n",
       "\n",
       "    .dataframe tbody tr th {\n",
       "        vertical-align: top;\n",
       "    }\n",
       "\n",
       "    .dataframe thead th {\n",
       "        text-align: right;\n",
       "    }\n",
       "</style>\n",
       "<table border=\"1\" class=\"dataframe\">\n",
       "  <thead>\n",
       "    <tr style=\"text-align: right;\">\n",
       "      <th></th>\n",
       "      <th>ID</th>\n",
       "      <th>location</th>\n",
       "      <th>budget</th>\n",
       "      <th>total_earnings</th>\n",
       "      <th>total_jobs</th>\n",
       "      <th>total_hours</th>\n",
       "      <th>skills</th>\n",
       "      <th>associated with company</th>\n",
       "      <th>company name</th>\n",
       "      <th>description</th>\n",
       "      <th>page</th>\n",
       "    </tr>\n",
       "  </thead>\n",
       "  <tbody>\n",
       "    <tr>\n",
       "      <th>0</th>\n",
       "      <td>~0152599b36414e1111</td>\n",
       "      <td>India</td>\n",
       "      <td>$25.00/hr</td>\n",
       "      <td>$200K+</td>\n",
       "      <td>92</td>\n",
       "      <td>14,221</td>\n",
       "      <td>AI Bot, AI Chatbot, AI Development, AI Text-to...</td>\n",
       "      <td>yes</td>\n",
       "      <td>Excellence Technologies Pvt. Ltd. - Leading So...</td>\n",
       "      <td>𝗧𝗼𝗽 𝗥𝗮𝘁𝗲𝗱 𝗔𝗜 𝗘𝗻𝗴𝗶𝗻𝗲𝗲𝗿 &amp; 𝗙𝘂𝗹𝗹-𝗦𝘁𝗮𝗰𝗸 𝗗𝗲𝘃𝗲𝗹𝗼𝗽𝗲𝗿 |...</td>\n",
       "      <td>1</td>\n",
       "    </tr>\n",
       "    <tr>\n",
       "      <th>1</th>\n",
       "      <td>~018df91fc406df4fa8</td>\n",
       "      <td>India</td>\n",
       "      <td>$25.00/hr</td>\n",
       "      <td>$3K+</td>\n",
       "      <td>5</td>\n",
       "      <td>60</td>\n",
       "      <td>AI Agent Development, OpenAI API, LLM Prompt, ...</td>\n",
       "      <td>yes</td>\n",
       "      <td>VKAPS IT Solutions Pvt. Ltd.</td>\n",
       "      <td>I engineer production-grade AI systems that th...</td>\n",
       "      <td>1</td>\n",
       "    </tr>\n",
       "    <tr>\n",
       "      <th>2</th>\n",
       "      <td>~01fee9ab65b45dfa94</td>\n",
       "      <td>Pakistan</td>\n",
       "      <td>$10.00/hr</td>\n",
       "      <td>$8K+</td>\n",
       "      <td>15</td>\n",
       "      <td>709</td>\n",
       "      <td>AI Content Creation, AI Text-to-Image, AI-Gene...</td>\n",
       "      <td>no</td>\n",
       "      <td>NaN</td>\n",
       "      <td>🌟 Hello! I'm Your Ultimate AI Expert for Creat...</td>\n",
       "      <td>1</td>\n",
       "    </tr>\n",
       "    <tr>\n",
       "      <th>3</th>\n",
       "      <td>~0178ed5ff15b50300f</td>\n",
       "      <td>Morocco</td>\n",
       "      <td>$45.00/hr</td>\n",
       "      <td>$4K+</td>\n",
       "      <td>36</td>\n",
       "      <td>21</td>\n",
       "      <td>AI Image Editing, AI Text-to-Image, AI Text-to...</td>\n",
       "      <td>no</td>\n",
       "      <td>NaN</td>\n",
       "      <td>✨ TRANSFORM YOUR IDEAS INTO STUNNING VISUAL RE...</td>\n",
       "      <td>1</td>\n",
       "    </tr>\n",
       "    <tr>\n",
       "      <th>4</th>\n",
       "      <td>~01af4cc133cdcb99b3</td>\n",
       "      <td>Ukraine</td>\n",
       "      <td>$45.00/hr</td>\n",
       "      <td>$30K+</td>\n",
       "      <td>10</td>\n",
       "      <td>269</td>\n",
       "      <td>AI Agent Development, ChatGPT, ChatGPT API, AI...</td>\n",
       "      <td>yes</td>\n",
       "      <td>AVOX</td>\n",
       "      <td>Hi 👋\\n\\nI am an experienced developer with a p...</td>\n",
       "      <td>1</td>\n",
       "    </tr>\n",
       "  </tbody>\n",
       "</table>\n",
       "</div>"
      ],
      "text/plain": [
       "                    ID  location     budget total_earnings total_jobs  \\\n",
       "0  ~0152599b36414e1111     India  $25.00/hr         $200K+         92   \n",
       "1  ~018df91fc406df4fa8     India  $25.00/hr           $3K+          5   \n",
       "2  ~01fee9ab65b45dfa94  Pakistan  $10.00/hr           $8K+         15   \n",
       "3  ~0178ed5ff15b50300f   Morocco  $45.00/hr           $4K+         36   \n",
       "4  ~01af4cc133cdcb99b3   Ukraine  $45.00/hr          $30K+         10   \n",
       "\n",
       "  total_hours                                             skills  \\\n",
       "0      14,221  AI Bot, AI Chatbot, AI Development, AI Text-to...   \n",
       "1          60  AI Agent Development, OpenAI API, LLM Prompt, ...   \n",
       "2         709  AI Content Creation, AI Text-to-Image, AI-Gene...   \n",
       "3          21  AI Image Editing, AI Text-to-Image, AI Text-to...   \n",
       "4         269  AI Agent Development, ChatGPT, ChatGPT API, AI...   \n",
       "\n",
       "  associated with company                                       company name  \\\n",
       "0                     yes  Excellence Technologies Pvt. Ltd. - Leading So...   \n",
       "1                     yes                       VKAPS IT Solutions Pvt. Ltd.   \n",
       "2                      no                                                NaN   \n",
       "3                      no                                                NaN   \n",
       "4                     yes                                               AVOX   \n",
       "\n",
       "                                         description  page  \n",
       "0  𝗧𝗼𝗽 𝗥𝗮𝘁𝗲𝗱 𝗔𝗜 𝗘𝗻𝗴𝗶𝗻𝗲𝗲𝗿 & 𝗙𝘂𝗹𝗹-𝗦𝘁𝗮𝗰𝗸 𝗗𝗲𝘃𝗲𝗹𝗼𝗽𝗲𝗿 |...     1  \n",
       "1  I engineer production-grade AI systems that th...     1  \n",
       "2  🌟 Hello! I'm Your Ultimate AI Expert for Creat...     1  \n",
       "3  ✨ TRANSFORM YOUR IDEAS INTO STUNNING VISUAL RE...     1  \n",
       "4  Hi 👋\\n\\nI am an experienced developer with a p...     1  "
      ]
     },
     "execution_count": 4,
     "metadata": {},
     "output_type": "execute_result"
    }
   ],
   "source": [
    "freelancers = pd.read_csv(\"AI_Freelancers.csv\",index_col = False)\n",
    "freelancers.head()"
   ]
  },
  {
   "cell_type": "markdown",
   "id": "17c429a0-fc78-45f7-b392-9c6a53032970",
   "metadata": {},
   "source": [
    "## Data Exploration\n",
    "\n",
    "Before diving into skills, salaries, and career patterns, it’s important to pause and get familiar with the dataset itself.  \n",
    "Every story begins with understanding the raw material, and here the raw material is job postings, freelancer's profiles scraped from freelancing platforms.  \n",
    "\n",
    "By exploring the structure of the data — the number of rows and columns, which fields are complete or missing, and the distribution of key features — I’m essentially mapping the landscape before analyzing it.  \n",
    "\n",
    "This step answers questions like:  \n",
    "- How big is the dataset I’m working with?  \n",
    "- Which columns are rich and reliable, and which have gaps?  \n",
    "- How are different features (like `title`, `skills`, `salary`, `experience_level`, and `payment_type`) represented?  \n",
    "\n"
   ]
  },
  {
   "cell_type": "markdown",
   "id": "c2919afd-a4d8-433f-8e74-b6acb4e71982",
   "metadata": {},
   "source": [
    "#### Dataset Size \n",
    "The first step in exploring the AI freelance job market is to understand how much information we actually have.  \n",
    "By checking the number of rows and columns, I’m essentially asking: *“How many job postings are captured, and how many features describe them?”*  \n",
    "\n",
    "This tells me whether I’m working with a broad, diverse dataset or something smaller and more niche."
   ]
  },
  {
   "cell_type": "code",
   "execution_count": 5,
   "id": "11cc920d-9262-46fa-9712-5442dc86ee91",
   "metadata": {},
   "outputs": [
    {
     "data": {
      "text/plain": [
       "(300, 8)"
      ]
     },
     "execution_count": 5,
     "metadata": {},
     "output_type": "execute_result"
    }
   ],
   "source": [
    "jobs.shape"
   ]
  },
  {
   "cell_type": "code",
   "execution_count": 6,
   "id": "1fa64201-60ab-4948-96c3-e6fd27c3b548",
   "metadata": {},
   "outputs": [
    {
     "data": {
      "text/plain": [
       "(470, 11)"
      ]
     },
     "execution_count": 6,
     "metadata": {},
     "output_type": "execute_result"
    }
   ],
   "source": [
    "freelancers.shape"
   ]
  },
  {
   "cell_type": "markdown",
   "id": "db9869e8-5f43-4d99-a786-e88e33f529a5",
   "metadata": {},
   "source": [
    "*The dataset contains **300 rows x 8 columns job postings** , **470 rows x 11 column of freelancers profiles**, which means I have 300 job postings described by 8 features , 499 Freelancer profile descriped by 11 feature. This gives me enough breadth to spot real market patterns.*  "
   ]
  },
  {
   "cell_type": "markdown",
   "id": "b09c0318-1918-419a-82fc-ecdf903e317c",
   "metadata": {},
   "source": [
    "#### Column Overview & Missing Data  \n",
    "\n",
    "Next, I look at the dataset’s schema — what type of data each column holds, and how complete it is.  \n",
    "Do most jobs list salaries? Do they all have titles, skills, and locations? Or are there gaps that I need to handle carefully? Does freelacers list their earnings? What is a must to put in a profile and What does they leave out?   \n",
    "\n",
    "This check helps me avoid blind spots later: if a column has lots of missing values, I can’t treat it as a reliable signal.  \n"
   ]
  },
  {
   "cell_type": "code",
   "execution_count": null,
   "id": "ae885511-3ad6-4ab0-a41b-4dc68f761a12",
   "metadata": {},
   "outputs": [],
   "source": [
    "jobs.info() "
   ]
  },
  {
   "cell_type": "markdown",
   "id": "d9e6a81d-4905-4917-9207-cc6f3a63fbd8",
   "metadata": {},
   "source": [
    "*Some columns, like `title` and `payment_type`, are well-populated. Others, like `rating` or `job_type`, may have gaps.  \n",
    "Knowing this upfront lets me decide where to trust the data fully and where to handle missing values thoughtfully.*  \n"
   ]
  },
  {
   "cell_type": "code",
   "execution_count": null,
   "id": "0265124c-0ea9-4cc2-8f3a-35b1bd233077",
   "metadata": {},
   "outputs": [],
   "source": [
    "freelancers.info()"
   ]
  },
  {
   "cell_type": "markdown",
   "id": "3990b598-9859-49b1-9d39-99c80be8f5d6",
   "metadata": {},
   "source": [
    "*Here also some columns, like `total_earnings` and `budget`, are well-populated. Others, like `company_name` or `total_hours`.*  "
   ]
  },
  {
   "cell_type": "markdown",
   "id": "76866a36-cf60-4dda-ad3b-667b8eae2953",
   "metadata": {},
   "source": [
    "#### Null Value Counts  \n",
    "\n",
    "To be more precise, I count the exact number of missing vs non-missing values in each feature.  \n",
    "This gives me a clearer picture of how strong each signal is in the dataset.  \n"
   ]
  },
  {
   "cell_type": "code",
   "execution_count": null,
   "id": "96c1a388-1600-4dda-a3aa-d36561dd9bd8",
   "metadata": {},
   "outputs": [],
   "source": [
    "jobs.isna().sum()"
   ]
  },
  {
   "cell_type": "markdown",
   "id": "5b4ee119-ed06-4e06-a9a1-f8ebb005d5bb",
   "metadata": {},
   "source": [
    "*Columns with high null counts (for example, `job_type` or `rating`) highlight areas where not all clients share complete info.  \n",
    "This reflects real-world freelancing platforms: not every posting gives full details, and freelancers must often make decisions with partial informatiom.*  \n"
   ]
  },
  {
   "cell_type": "code",
   "execution_count": null,
   "id": "f3537098-0490-4758-869d-67c6ecde05fd",
   "metadata": {},
   "outputs": [],
   "source": [
    "freelancers.isna().sum()"
   ]
  },
  {
   "cell_type": "markdown",
   "id": "7d7513c6-e0f6-4f53-af7e-74d39f8d89f3",
   "metadata": {},
   "source": [
    "*Here columns with null values shows what freelancer focus on and what doen't matter. (for example,`skills`) is almost a must no freelancers leave it out.*"
   ]
  },
  {
   "cell_type": "markdown",
   "id": "6a96dec5-2189-42e5-a9f7-ff02717a432b",
   "metadata": {},
   "source": [
    "## Data Preparation  \n",
    "\n",
    "If data exploration was about *getting to know the landscape*, then data preparation is about *making the road walkable*.  \n",
    "This is the stage where raw, messy job postings - freelancer profiles are transformed into a structured dataset that can actually tell a story.  \n",
    "\n",
    "For me, this is the most important part of the entire workflow:  \n",
    "- Removing unnecessary columns and rows keeps the focus on signals that matter.  \n",
    "- Renaming columns makes the dataset human-readable and analysis-ready.  \n",
    "- Cleaning column structures (for example, converting `salary` into integers) ensures that numbers behave like numbers, not strings.  \n",
    "\n",
    "**Why this matters :** A messy dataset hides patterns, but a clean one reveals them.  \n",
    "If this section is done well, everything that follows — salary analysis, skill demand, experience trends — becomes clearer, more reliable, and more actionable.  \n"
   ]
  },
  {
   "cell_type": "code",
   "execution_count": null,
   "id": "66e81924-77dd-42f7-8f5e-89ded89453ee",
   "metadata": {},
   "outputs": [],
   "source": [
    "jobs = jobs.drop( 'page' , axis = 1)\n",
    "freelancers = freelancers.drop( 'page' , axis = 1)\n",
    "freelancers = freelancers.drop( 'company name' , axis = 1)"
   ]
  },
  {
   "cell_type": "markdown",
   "id": "cbaf1c4c-d413-4c76-8bf0-ab28ff2ad4a3",
   "metadata": {},
   "source": [
    "#### Renaming Columns for Clarity  \n",
    "Column names should be human-readable and self-explanatory.  \n",
    "I renamed in job postings:  \n",
    "- `budget` → `salary`  \n",
    "- `experience` → `experience_level`  \n",
    "- `job_type` → `payment_type`\n",
    "In freelancer profiles:\n",
    "- `budget` → `rate_per-hour`\n",
    "- `associated with company` → `is_associated_with_company`\n",
    "- \n",
    "This makes later plots and insights easier to follow.  "
   ]
  },
  {
   "cell_type": "code",
   "execution_count": null,
   "id": "4f1aa307-782d-4376-ac5c-e63a15533104",
   "metadata": {},
   "outputs": [],
   "source": [
    "jobs = jobs.rename(columns={'budget' : 'salary' , 'experience' : 'experience_level' , 'job_type' : 'payment_type'})\n",
    "freelancers = freelancers.rename(columns={'budget':'rate_per_hour' , 'associated with company':'is_associated_with_company'})"
   ]
  },
  {
   "cell_type": "markdown",
   "id": "d585fe93-afea-4b57-a0c6-374ee54735e8",
   "metadata": {},
   "source": [
    "#### Cleaning Job Titles  \n",
    "Many titles contain long strings of unnecessary detail.  \n",
    "To simplify, I extract the portion before the word *Engineer* — so instead of messy text, we keep consistent, comparable job titles.  \n"
   ]
  },
  {
   "cell_type": "code",
   "execution_count": null,
   "id": "e1662b4c-eb4c-4bcb-9c47-1607754a0b15",
   "metadata": {},
   "outputs": [],
   "source": [
    "jobs['title'] = jobs['title'].str.extract(r'(.*?Engineer)')"
   ]
  },
  {
   "cell_type": "markdown",
   "id": "2fc8cfee-8d77-4f3b-9374-c734826919c6",
   "metadata": {},
   "source": [
    "#### Cleaning and Converting Data types  \n",
    "The salary columns originally contained symbols (`$`) and extra text, making it unusable for numeric analysis.  \n",
    "\n",
    "Steps taken:  \n",
    "1. Remove currency symbols and text.  \n",
    "2. Extract the numeric portion.  \n",
    "3. Convert it from object type to integer (`Int64`).  \n",
    "\n",
    "Now salaries behave like numbers, which allows us to calculate averages, distributions, and comparisons.  \n",
    "\n",
    "also some numeric columns were treated as object had to be converted"
   ]
  },
  {
   "cell_type": "code",
   "execution_count": null,
   "id": "ea88cec0-c9ee-45fa-a377-dd3145c54610",
   "metadata": {},
   "outputs": [],
   "source": [
    "def clean_earnings(val):\n",
    "    if pd.isna(val):\n",
    "        return 0\n",
    "    val = str(val).upper().replace(\"$\", \"\").replace(\"+\", \"\").strip()\n",
    "    if \"K\" in val:\n",
    "        return int(float(val.replace(\"K\", \"\")) * 1000)\n",
    "    elif \"M\" in val:\n",
    "        return int(float(val.replace(\"M\", \"\")) * 1_000_000)\n",
    "    else:\n",
    "        return int(float(val)) if val.isdigit() else 0\n",
    "\n",
    "\n",
    "freelancers['total_earnings'] = freelancers['total_earnings'].apply(clean_earnings)"
   ]
  },
  {
   "cell_type": "markdown",
   "id": "d0520e17-b01a-4b4d-8e25-b253b1c927ea",
   "metadata": {},
   "source": [
    "*Total earnings column has to be normalized because some rows has K symbol which mean thousand and some contain M which means million so removing them means false data , converting types from string to integer.*"
   ]
  },
  {
   "cell_type": "code",
   "execution_count": null,
   "id": "ce7593b6-40a6-44bd-b409-cc00c03039ff",
   "metadata": {},
   "outputs": [],
   "source": [
    "# Fix for salary columns (your existing code)\n",
    "jobs['salary'] = jobs['salary'].str.split(r'(\\d+)', expand=False).str[1]\n",
    "jobs['salary'] = jobs['salary'].astype('Int64')\n",
    "\n",
    "freelancers['rate_per_hour'] = freelancers['rate_per_hour'].str.split(r'(\\d+)', expand=False).str[1]\n",
    "freelancers['rate_per_hour'] = freelancers['rate_per_hour'].astype('Int64')\n",
    "\n",
    "# Fix for columns with commas - handle different data types\n",
    "def clean_and_convert_to_int(series):\n",
    "    \"\"\"Convert series to Int64, handling commas if present\"\"\"\n",
    "    if series.dtype == 'object':  # String-like data\n",
    "        return series.str.replace(',', '').astype('Int64')\n",
    "    else:  # Already numeric\n",
    "        return series.astype('Int64')\n",
    "\n",
    "freelancers['total_earnings'] = clean_and_convert_to_int(freelancers['total_earnings'])\n",
    "freelancers['total_jobs'] = clean_and_convert_to_int(freelancers['total_jobs'])\n",
    "freelancers['total_hours'] = clean_and_convert_to_int(freelancers['total_hours'])"
   ]
  },
  {
   "cell_type": "code",
   "execution_count": null,
   "id": "519e23fc-69c9-432d-af98-32bd44887124",
   "metadata": {},
   "outputs": [],
   "source": [
    "freelancers.head()"
   ]
  },
  {
   "cell_type": "code",
   "execution_count": null,
   "id": "b1d177b9-1f06-4075-af18-f01b37b9f04a",
   "metadata": {},
   "outputs": [],
   "source": [
    "jobs.head()"
   ]
  },
  {
   "cell_type": "markdown",
   "id": "f3b883c4-648e-4efc-9336-78c132fbe7c3",
   "metadata": {},
   "source": [
    "## Data Plotting  \n",
    "\n",
    "This section is where the story of the AI freelance market really comes alive.  \n",
    "Just like any newcomer stepping into freelancing (including myself), I had a set of burning questions:  \n",
    "\n",
    "-  **Where are the opportunities?** Which countries (and remote jobs) dominate the market?  \n",
    "-  **How much can I expect to earn?** Which countries offer the highest salaries, and how does pay differ between hourly and fixed-price work?  \n",
    "-  **What do clients want?** Which skills are most in demand, and are companies looking for seasoned experts only — or is there room for beginners too?  \n",
    "-  **Do ratings matter?** Do higher-rated companies lean toward fixed or hourly contracts?\n",
    "-  **What are the important skills?** are there essentital skills that are must to have?\n",
    "\n",
    "To answer these, I included more 10+ visualizations — not to overwhelm, but because I didn’t want to miss anything important in the data.  \n",
    "Every chart is a different piece of the puzzle, and together they form a complete picture of how the freelance AI job market works.  \n",
    "\n",
    " **Why this matters:** As someone mapping my own next steps in freelancing, each of these plots is like a signpost. They help me (and hopefully others too) see where the opportunities are, what skills to sharpen, and what career paths look like in practice.  \n"
   ]
  },
  {
   "cell_type": "markdown",
   "id": "e60eb24b-8d24-46d8-8bbd-ca8e9f5f7ee4",
   "metadata": {},
   "source": [
    "## 🌍 Geographic Opportunities  \n",
    "\n",
    "Freelancing may be borderless, but geography still shapes opportunity.  \n",
    "To understand the global market, I explored **five questions**:  \n",
    "\n",
    "1. **Where are the jobs coming from?** (Top countries by job postings)  \n",
    "2. **Where are the freelancers?** (Top freelancer locations)  \n",
    "3. **Which countries pay the most?** (Company-offered budgets)  \n",
    "4. **Which freelancers are most expensive?** (Freelancer hourly rates by country)  \n",
    "5. **Which clients are the best to work with?** (Average company ratings by country)  \n",
    "\n",
    "Each question uncovers a different angle of geography’s role in freelancing:  \n",
    "- Some countries dominate **demand** (lots of job postings).  \n",
    "- Others dominate **supply** (lots of freelancers competing).  \n",
    "- The highest salaries don’t always come from the countries with the most jobs.  \n",
    "- High-rated clients don’t always pay the highest budgets.  \n",
    "\n",
    "📌 **Takeaway:** For freelancers, geography is about **trade-offs**. The US and India may lead in volume, but the best opportunities often lie in the intersection of **high pay, high ratings, and balanced competition**.  \n"
   ]
  },
  {
   "cell_type": "markdown",
   "id": "504d7195-a780-431c-abcf-00540ecdf0c1",
   "metadata": {},
   "source": [
    "#### Where are the jobs coming from? \n",
    "\n",
    "The first question for any freelancer is simple: *which countries are posting the most jobs?*  \n",
    "By looking at the distribution of postings, we see whether freelancing demand is concentrated in specific markets or more evenly spread. \n",
    "\n",
    "#### Where are the freelancers located? \n",
    "\n",
    "Jobs are only half of the equation — supply also matters.  \n",
    "So I looked at the **top freelancer locations** to see whether freelancers are concentrated in the same markets as the job postings, or if there are mismatches.  \n"
   ]
  },
  {
   "cell_type": "code",
   "execution_count": null,
   "id": "e3a75b46-98cc-43cb-9c7c-606e5f98592c",
   "metadata": {},
   "outputs": [],
   "source": [
    "import pycountry\n",
    "def normalize_country(name):\n",
    "    try:\n",
    "        country = pycountry.countries.lookup(name)\n",
    "        return country.name\n",
    "    except LookupError:\n",
    "        return name \n",
    "\n",
    "jobs['location'] = jobs['location'].apply(normalize_country)\n",
    "\n",
    "top_countries_jobs = jobs['location'].value_counts(normalize=True).head(7) * 100\n",
    "\n",
    "# Freelancer supply (profiles dataset)\n",
    "top_countries_freelancers = freelancers['location'].value_counts(normalize=True).reindex(top_countries_jobs.index) * 100\n",
    "\n",
    "# Combine into one dataframe\n",
    "compare_geo = pd.DataFrame({\n",
    "    \"Jobs (%)\": top_countries_jobs,\n",
    "    \"Freelancers (%)\": top_countries_freelancers\n",
    "})\n",
    "\n",
    "# Plot side-by-side bars\n",
    "compare_geo.plot(kind=\"bar\", figsize=(12,6), edgecolor=\"black\")\n",
    "plt.title(\"Companies vs Freelancers in Top Countries\")\n",
    "plt.ylabel(\"Percentage Share\")\n",
    "plt.xticks(rotation=45, ha=\"right\")\n",
    "\n",
    "plt.show()\n"
   ]
  },
  {
   "cell_type": "markdown",
   "id": "bee36d68-1a28-4d3a-ae1f-695e951eb496",
   "metadata": {},
   "source": [
    "-Most opportunities are concentrated in the US, UK, and India, with remote roles also ranking high. This shows that while freelancing is accessible worldwide, the bulk of demand comes from a few major markets.  \n",
    "\n",
    "-Countries like India have a disproportionately high number of freelancers compared to postings, which signals high competition. In contrast, some countries have more job demand than local freelancer supply, which could be an opportunity for remote workers.  "
   ]
  },
  {
   "cell_type": "markdown",
   "id": "fb782d80-9d73-4b3d-b3e4-9149545a17a0",
   "metadata": {},
   "source": [
    "#### Which countries pay the most? \n",
    "Not all jobs are equal — some markets pay significantly more.  \n",
    "By analyzing **average company budgets** (hourly), we can see where the financial upside lies and whether contract type matters by country.  \n",
    "\n",
    "#### Which freelancers are the most expensive?  \n",
    "\n",
    "Company budgets show what clients are willing to pay — but freelancers also set their own expectations.  \n",
    "Looking at **average freelancer hourly rates by country** reveals where freelancers price themselves highest.  \n"
   ]
  },
  {
   "cell_type": "code",
   "execution_count": null,
   "id": "ad039d15-f78b-4ca2-90d9-54f211c249fd",
   "metadata": {},
   "outputs": [],
   "source": [
    "hourly_locations = jobs[jobs['payment_type'] == 'Hourly'].dropna(subset=['location'])\n",
    "hourly_counts = hourly_locations['location'].value_counts()\n",
    "hourly_locations = hourly_locations[hourly_locations['location'].isin(hourly_counts[hourly_counts > 2].index)]\n",
    "\n",
    "fixed_locations = jobs[jobs['payment_type'] == 'Fixed-price'].dropna(subset=['location'])\n",
    "fixed_counts = fixed_locations['location'].value_counts()\n",
    "fixed_locations = fixed_locations[fixed_locations['location'].isin(fixed_counts[fixed_counts > 2].index)]\n",
    "\n",
    "# Company average budgets\n",
    "company_hourly = hourly_locations.groupby('location')['salary'].mean()\n",
    "company_fixed = fixed_locations.groupby('location')['salary'].mean()\n",
    "\n",
    "# Freelancer averages\n",
    "freelancer_hourly = freelancers.groupby('location')['rate_per_hour'].mean()\n",
    "\n",
    "# Compute freelancer average fixed earning per job\n",
    "freelancers['avg_fixed_per_job'] = freelancers['total_earnings'] / freelancers['total_jobs']\n",
    "freelancer_fixed = freelancers.groupby('location')['avg_fixed_per_job'].median()\n",
    "\n",
    "fig, (ax1, ax2) = plt.subplots(1, 2, figsize=(16,6))\n",
    "\n",
    "compare_df = pd.DataFrame({\n",
    "    \"Company Avg Budget (Hourly)\": company_hourly,\n",
    "    \"Freelancer Avg Rate (Hourly)\": freelancer_hourly,\n",
    "    \"Company Avg Budget (Fixed)\": company_fixed,\n",
    "    \"Freelancer Avg Earning per Job (Fixed)\": freelancer_fixed\n",
    "}).dropna().sort_values(\"Company Avg Budget (Hourly)\", ascending=False).head(10)\n",
    "\n",
    "\n",
    "# Hourly comparison\n",
    "hourly_compare = compare_df[[\"Company Avg Budget (Hourly)\", \"Freelancer Avg Rate (Hourly)\"]]\n",
    "hourly_compare.plot(kind=\"bar\", ax=ax1, color=[\"steelblue\",\"salmon\"], edgecolor=\"black\")\n",
    "ax1.set_title(\"Company vs Freelancer (Hourly)\")\n",
    "ax1.set_ylabel(\"Hourly Rate\")\n",
    "ax1.tick_params(axis=\"x\", rotation=45)\n",
    "\n",
    "# Fixed comparison\n",
    "fixed_compare = compare_df[[\"Company Avg Budget (Fixed)\", \"Freelancer Avg Earning per Job (Fixed)\"]]\n",
    "fixed_compare.plot(kind=\"bar\", ax=ax2, color=[\"orange\",\"green\"], edgecolor=\"black\")\n",
    "ax2.set_title(\"Company vs Freelancer (Fixed)\")\n",
    "ax2.set_ylabel(\"Fixed Earnings per Job\")\n",
    "ax2.set_yscale(\"log\")\n",
    "\n",
    "ax2.tick_params(axis=\"x\", rotation=45)\n",
    "\n",
    "plt.tight_layout()\n",
    "plt.show()\n",
    "\n"
   ]
  },
  {
   "cell_type": "markdown",
   "id": "e3e23ad8-4695-44c5-b205-08596ccca272",
   "metadata": {},
   "source": [
    "**Observation:**  \n",
    "The fixed-price comparison reveals a clear mismatch:  \n",
    "- Freelancers often report much higher average earnings per job than company budgets suggest, creating a visible gap between supply and demand.  \n",
    "- This could signal that freelancers **overstate their average project earnings**, either due to self-reporting bias or a few large projects skewing their profiles.  \n",
    "- On the company side, budgets may be **intentionally conservative**, as clients often start lower and expect negotiation.  \n",
    "\n",
    "📌 *Takeaway:* Fixed-price projects introduce more uncertainty — freelancers aim high, clients budget low, and the actual deal often lands somewhere in the middle.  \n"
   ]
  },
  {
   "cell_type": "markdown",
   "id": "3e350753-e648-4279-b67e-3140d89c546d",
   "metadata": {},
   "source": [
    "#### Which clients are the best to work with?  \n",
    "\n",
    "Salary is important, but freelancer satisfaction also depends on **company ratings**.  \n",
    "By comparing average ratings across countries — and even plotting them against average salaries — we can see where high-paying jobs overlap with reliable clients.  \n"
   ]
  },
  {
   "cell_type": "code",
   "execution_count": null,
   "id": "686bf2e0-170f-4ab9-8ed8-e8f9aa6062b6",
   "metadata": {},
   "outputs": [],
   "source": [
    "import matplotlib.pyplot as plt\n",
    "\n",
    "# Group separately by payment type\n",
    "hourly = jobs[jobs['payment_type'] == 'Hourly'].groupby('location').agg({\n",
    "    'salary': 'mean',\n",
    "    'rating': 'mean'\n",
    "}).dropna().head(20)\n",
    "\n",
    "fixed = jobs[jobs['payment_type'] == 'Fixed-price'].groupby('location').agg({\n",
    "    'salary': 'mean',\n",
    "    'rating': 'mean'\n",
    "}).dropna().head(20)\n",
    "\n",
    "fig, (ax1, ax2) = plt.subplots(nrows=1, ncols=2, figsize=(14, 6))\n",
    "\n",
    "# Plot hourly\n",
    "ax1.scatter(hourly['rating'], hourly['salary'], color='blue')\n",
    "for country in hourly.index:\n",
    "    ax1.text(hourly.loc[country, 'rating'],\n",
    "             hourly.loc[country, 'salary'],\n",
    "             country, fontsize=8)\n",
    "\n",
    "# Plot fixed-price\n",
    "ax2.scatter(fixed['rating'], fixed['salary'], color='green')\n",
    "for country in fixed.index:\n",
    "    ax2.text(fixed.loc[country, 'rating'],\n",
    "             fixed.loc[country, 'salary'],\n",
    "             country, fontsize=8)\n",
    "\n",
    "ax1.set(title=\"Hourly: Avg Salary vs Rating\", xlabel=\"Average Rating\", ylabel=\"Average Salary\")\n",
    "ax2.set(title=\"Fixed-price: Avg Salary vs Rating\", xlabel=\"Average Rating\", ylabel=\"Average Salary\")\n",
    "\n",
    "plt.tight_layout()\n",
    "plt.show()\n"
   ]
  },
  {
   "cell_type": "markdown",
   "id": "4308ce99-a270-47b4-96bc-a2fc2ddb649e",
   "metadata": {},
   "source": [
    "Not all high-paying countries have the best ratings. The sweet spot lies in countries with both **high budgets and high ratings** — these represent the most attractive markets for freelancers. Other regions may pay well but come with lower-rated clients, meaning more risk.  \n"
   ]
  },
  {
   "cell_type": "markdown",
   "id": "b761216b-2fee-4db8-937b-4b4ea670004c",
   "metadata": {},
   "source": [
    "\n",
    "📌 **Geographic Takeaway:**  \n",
    "Freelancing opportunities are shaped by geography in multiple ways.  \n",
    "- The US, UK, and India dominate in job postings.  \n",
    "- India leads in freelancer supply, creating intense competition.  \n",
    "- Developed countries pay the highest rates, but also host the most expensive freelancers.  \n",
    "- Client satisfaction varies, meaning the best opportunities lie not just where the money is, but where clients are also highly rated.  \n",
    "\n",
    "For freelancers, this means making a choice: **compete in high-volume markets** or **specialize in high-value, high-trust niches**.  \n"
   ]
  },
  {
   "cell_type": "markdown",
   "id": "7182d336-a045-4b1c-8587-025ee9e28336",
   "metadata": {},
   "source": [
    "## 🛠 Skills in Demand  \n",
    "\n",
    "Freelancing success depends on one thing above all: **skills**.  \n",
    "Companies may define roles, but what they really pay for are the tools and techniques freelancers bring to the table.  \n",
    "I explored this from three angles:  \n",
    "1. **Which skills dominate job postings?**  \n",
    "2. **Do freelancers’ skills match company demand?**  \n",
    "3. **How do skill priorities shift with experience level?**\n"
   ]
  },
  {
   "cell_type": "markdown",
   "id": "e90092aa-59f7-4107-a7a8-a114d00fa0d2",
   "metadata": {},
   "source": [
    "#### Which skills dominate job postings?\n",
    "#### Do freelancers’ skills align with company demand?  \n",
    "\n",
    "Here I compared the top skills listed in freelancer profiles vs the top skills requested in job postings.  \n",
    "The goal: *are freelancers positioning themselves with what companies are asking for, or is there a gap?*  \n"
   ]
  },
  {
   "cell_type": "code",
   "execution_count": null,
   "id": "45fc2b44-1539-4c1c-9ec2-90539d3467cd",
   "metadata": {},
   "outputs": [],
   "source": [
    "jobs['skills'] = jobs['skills'].apply(\n",
    "    lambda x: [s.strip() for s in x.split(',')] if isinstance(x, str) else (x if isinstance(x, list) else [])\n",
    ")\n",
    "job_skills = jobs['skills'].explode().value_counts().head(10)\n",
    "\n",
    "# Extract freelancer skills\n",
    "freelancers['skills'] = freelancers['skills'].apply(\n",
    "    lambda x: [s.strip().lower() for s in x.split(',')] if isinstance(x, str) else []\n",
    ")\n",
    "freelancer_skills = freelancers['skills'].explode().value_counts().head(10)\n",
    "\n",
    "# Combine into comparison dataframe\n",
    "skills_compare = pd.concat([\n",
    "    job_skills.rename(\"Jobs\"),\n",
    "    freelancer_skills.rename(\"Freelancers\")\n",
    "], axis=1).fillna(0).astype(int)\n",
    "\n",
    "# Normalize to percentages for fair comparison\n",
    "skills_compare_pct = skills_compare.div(skills_compare.sum(axis=0), axis=1) * 100\n",
    "\n",
    "# Plot side-by-side bars\n",
    "ax = skills_compare_pct.plot(kind=\"bar\", figsize=(12,6), width=0.8, edgecolor=\"black\")\n",
    "plt.title(\"Top 10 Skills: Jobs vs Freelancers (%)\", fontsize=14)\n",
    "plt.ylabel(\"Percentage of Listings\", fontsize=12)\n",
    "plt.xticks(rotation=45, ha=\"right\")\n",
    "plt.legend()\n",
    "plt.tight_layout()\n",
    "plt.show()\n"
   ]
  },
  {
   "cell_type": "markdown",
   "id": "a99c601e-4180-4192-a640-1f4326ef6e4e",
   "metadata": {},
   "source": [
    "*Observation*:\n",
    "\n",
    "-On the jobs side, **Python** leads overwhelmingly , followed by **Artificial Intelligence** and **Machine Learning** — clearly showing demand for core AI/ML technical skills.\n",
    "\n",
    "-Traditional programming languages like **JavaScript** and **API** round out the top requirements, emphasizing full-stack capabilities.\n",
    "\n",
    "-On the freelancer side, the landscape shifts dramatically — **AI chatbot** and **AI agent development** both hit, suggesting freelancers are positioning themselves around trendy AI applications.\n",
    "\n",
    "-Freelancers also emphasize **generative AI** and **AI development**, but notably lack the foundational programming skills that jobs demand most.\n",
    "There's a striking gap: jobs heavily prioritize **Python** and **Machine Learning**, while freelancers focus more on surface-level AI buzzwords and specific applications.\n",
    "\n",
    "📌 *Takeaway*: Massive skills disconnect — companies want deep technical foundations (Python, ML algorithms), while freelancers market themselves with flashy AI application terms. Freelancers who master the fundamentals that jobs actually request could dominate this underserved market."
   ]
  },
  {
   "cell_type": "markdown",
   "id": "4e01d1ea-2ff9-46cb-99ef-0f2accfc3184",
   "metadata": {},
   "source": [
    "\n",
    "### How do skills vary by experience level?  \n",
    "\n",
    "Finally, I broke down which skills are most common in **entry-level vs expert-level jobs**.  \n"
   ]
  },
  {
   "cell_type": "code",
   "execution_count": null,
   "id": "5acef9c1-faa3-4bdd-97b9-f7c5eb37614f",
   "metadata": {},
   "outputs": [],
   "source": [
    "skills_by_exp = jobs.explode('skills').dropna(subset=['skills', 'experience_level'])\n",
    "\n",
    "skills_by_exp = skills_by_exp[skills_by_exp['skills'].str.strip() != \"\"]\n",
    "\n",
    "skill_exp_counts = skills_by_exp.groupby(['experience_level', 'skills']).size().unstack(fill_value=0)\n",
    "\n",
    "top_skills = skills_by_exp['skills'].value_counts().head(10).index\n",
    "skill_exp_counts = skill_exp_counts[top_skills]\n",
    "\n",
    "skill_exp_pct = skill_exp_counts.div(skill_exp_counts.sum(axis=1), axis=0) * 100\n",
    "\n",
    "skill_exp_pct = skill_exp_pct.apply(pd.to_numeric, errors=\"coerce\").fillna(0)\n",
    "\n",
    "ax = skill_exp_pct.plot(\n",
    "    kind=\"bar\", stacked=True, figsize=(12,6),\n",
    "    colormap=\"tab20c\", edgecolor=\"black\"\n",
    ")\n",
    "plt.title(\"Skill Distribution by Experience Level (%)\", fontsize=14)\n",
    "plt.ylabel(\"Percentage of Jobs\", fontsize=12)\n",
    "plt.xticks(rotation=45, ha=\"right\")\n",
    "plt.legend(title=\"Skill\", bbox_to_anchor=(1.05, 1), loc='upper left')\n",
    "plt.tight_layout()\n",
    "plt.show()\n"
   ]
  },
  {
   "cell_type": "markdown",
   "id": "24c57fa6-d140-40d9-a8bb-d89ee58ec37d",
   "metadata": {},
   "source": [
    "\n",
    "*Observation:*  \n",
    "-Advanced skills emerge at higher levels: *Expert* and *Intermediate* roles show more demand for **TensorFlow**, **AI Agent Development**, and **Natural Language Processing** — skills that require deeper technical expertise.\n",
    "-*Entry level* has the most concentrated skill distribution, with **Python** + AI making up of all requirements, suggesting clearer, more focused hiring criteria for beginners.\n",
    "\n",
    "📌 *Takeaway*: Experience-based skill evolution — Entry roles focus on Python + AI fundamentals, while senior roles diversify into specialized areas like advanced ML frameworks and agent development. Junior developers should master the basics, while experienced practitioners should differentiate through specialized AI/ML tools. \n"
   ]
  },
  {
   "cell_type": "markdown",
   "id": "d37aeda2-da1f-4218-a514-f5b7e81e3a77",
   "metadata": {},
   "source": [
    "### What are the most used Skills in each experience level?"
   ]
  },
  {
   "cell_type": "code",
   "execution_count": null,
   "id": "e10c55bb-044e-4cd2-8fae-9ff72690b813",
   "metadata": {},
   "outputs": [],
   "source": [
    "bins = [0, 1000, 10000, 50000, freelancers['total_earnings'].max()]\n",
    "labels = [\"Low (<1k)\", \"Mid (1k–10k)\", \"Advanced (10k–50k)\", \"Expert (50k+)\"]\n",
    "freelancers['earning_tier'] = pd.cut(freelancers['total_earnings'], bins=bins, labels=labels, include_lowest=True)\n",
    "fig, axes = plt.subplots(2, 2, figsize=(14,10))  \n",
    "axes = axes.flatten()\n",
    "\n",
    "for i, tier in enumerate(freelancers['earning_tier'].dropna().unique()):\n",
    "    tier_skills = freelancers[freelancers['earning_tier'] == tier]['skills'].explode().str.strip().str.lower()\n",
    "    tier_counts = tier_skills.value_counts().head(7)\n",
    "    \n",
    "    tier_counts.plot(\n",
    "        kind='bar', ax=axes[i], \n",
    "        color=\"teal\", edgecolor=\"black\"\n",
    "    )\n",
    "    axes[i].set_title(f\"Top Skills – {tier}\", fontsize=12)\n",
    "    axes[i].set_ylabel(\"Number of Freelancers\")\n",
    "    axes[i].set_xlabel(\"Skills\")\n",
    "    axes[i].tick_params(axis='x', rotation=45)\n",
    "\n",
    "plt.suptitle(\"Top Freelancer Skills by Earning Tier\", fontsize=16, weight=\"bold\")\n",
    "plt.tight_layout(rect=[0,0,1,0.97])\n",
    "plt.show()\n"
   ]
  },
  {
   "cell_type": "markdown",
   "id": "2098efbc-39b3-4ec7-a238-2a78ef335dad",
   "metadata": {},
   "source": [
    "All levels have almost the same skills this shows that as professional AI engineer it's not about having too many skills, it's about having the right skills with in-depth understanding and experience"
   ]
  },
  {
   "cell_type": "markdown",
   "id": "4288c8c6-a189-4160-9942-e33f85d7880d",
   "metadata": {},
   "source": [
    "## 💵 Salary Patterns  \n",
    "\n",
    "Compensation is where company expectations meet freelancer ambitions.  \n",
    "By looking at both job postings and freelancer profiles, we can see: \n",
    "\n",
    "1. **What’s the typical budget for hourly vs fixed-price jobs?**  \n",
    "2. **How does experience affect salaries for each contract type?**  \n",
    "3. **How do freelancer rates compare with company budgets?**  \n",
    "4. **How much does salary vary at each experience level?**  "
   ]
  },
  {
   "cell_type": "markdown",
   "id": "533c444a-cf83-4102-9506-f1a15190a20d",
   "metadata": {},
   "source": [
    "### What is the Average Budget?  \n",
    "\n",
    "Comparing hourly vs fixed-price budgets across postings shows how companies structure their pay.  \n"
   ]
  },
  {
   "cell_type": "code",
   "execution_count": null,
   "id": "2b84dae0-baef-4a7b-9e66-f4ad084f870a",
   "metadata": {},
   "outputs": [],
   "source": [
    "Hourly = jobs.loc[jobs['payment_type'] == 'Hourly', 'salary']\n",
    "Fixed_price = jobs.loc[jobs['payment_type'] == 'Fixed-price', 'salary']\n",
    "fig, ax = plt.subplots(figsize=(7, 5))\n",
    "\n",
    "ax.boxplot([Hourly.dropna(), Fixed_price.dropna()],\n",
    "           tick_labels=[\"Hourly\", \"Fixed-price\"],\n",
    "           patch_artist=True,\n",
    "           boxprops=dict(facecolor=\"lightblue\"),\n",
    "           medianprops=dict(color=\"red\"))\n",
    "\n",
    "ax.set_facecolor('lightgray')\n",
    "ax.set_yscale(\"asinh\")\n",
    "ax.set_ylabel(\"Salary (scaled)\")\n",
    "ax.set_title(\"Salary Distribution: Hourly vs Fixed-price\")\n",
    "\n",
    "# Show averages as horizontal lines\n",
    "ax.hlines(np.mean(Hourly), xmin=0.8, xmax=1.2, colors=\"blue\", linestyles=\"--\", label=f\"Hourly Avg: {round(np.mean(Hourly))}\")\n",
    "ax.hlines(np.mean(Fixed_price), xmin=1.8, xmax=2.2, colors=\"orange\", linestyles=\"--\", label=f\"Fixed Avg: {round(np.mean(Fixed_price))}\")\n",
    "ax.legend()\n",
    "\n",
    "plt.show()\n"
   ]
  },
  {
   "cell_type": "markdown",
   "id": "052a585f-3ecd-48a6-bd0f-721db41c5f2a",
   "metadata": {},
   "source": [
    "\n",
    "**Observations:**  \n",
    "- Hourly contracts cluster tightly around lower values — stable and predictable.  \n",
    "- Fixed-price contracts stretch much wider, with higher upside.  \n",
    "- On average, fixed contracts skew higher, suggesting bigger budgets for projects requiring full delivery.  \n",
    "\n",
    "📌 *Takeaway:* Hourly = stability, Fixed = volatility with higher ceiling.  \n"
   ]
  },
  {
   "cell_type": "markdown",
   "id": "becf445a-fb0d-4669-9070-60c400271733",
   "metadata": {},
   "source": [
    "\n",
    "### How does experience affect salary by contract type?  \n",
    "\n",
    "Breaking budgets down by experience level reveals career progression patterns.  \n"
   ]
  },
  {
   "cell_type": "code",
   "execution_count": null,
   "id": "602d931a-e1f8-4451-9e01-5b88913efa1f",
   "metadata": {},
   "outputs": [],
   "source": [
    "hourly_experience_level = jobs[jobs['payment_type'] == 'Hourly'].dropna(subset=['experience_level'])\n",
    "fixed_experience_level  = jobs[jobs['payment_type'] == 'Fixed-price'].dropna(subset=['experience_level'])\n",
    "\n",
    "hourly_experience_level_mean = hourly_experience_level.groupby('experience_level')['salary'].mean().sort_values(ascending= False).dropna().head(10)\n",
    "fixed_experience_level_mean = fixed_experience_level.groupby('experience_level')['salary'].mean().sort_values(ascending= False).dropna().head(10)\n",
    "\n",
    "salary_exp_compare = pd.DataFrame({\n",
    "    \"Hourly\": hourly_experience_level.groupby('experience_level')['salary'].mean(),\n",
    "    \"Fixed\": fixed_experience_level.groupby('experience_level')['salary'].mean()\n",
    "})\n",
    "\n",
    "salary_exp_compare.plot(kind=\"bar\", figsize=(8,5), color=[\"steelblue\",\"orange\"], edgecolor=\"black\")\n",
    "plt.title(\"Average Salary per Experience Level (Hourly vs Fixed)\")\n",
    "plt.ylabel(\"Average Salary\")\n",
    "plt.xticks(rotation=45, ha=\"right\")\n",
    "plt.show()\n"
   ]
  },
  {
   "cell_type": "markdown",
   "id": "74c3c8b4-b887-489c-ade1-a2ef98921e03",
   "metadata": {},
   "source": [
    "\n",
    "**Observations:**  \n",
    "- Hourly rates rise steadily with experience — experts clearly command higher pay.  \n",
    "- Fixed-price peaks at intermediate level — companies see them as the sweet spot: skilled yet affordable.  \n",
    "\n",
    "📌 *Takeaway:* Intermediates often get the **largest projects**, experts the **specialized ones**.  \n"
   ]
  },
  {
   "cell_type": "markdown",
   "id": "ade97813-4b45-408f-ae4c-79381c06f3c4",
   "metadata": {},
   "source": [
    "### Do freelancer rates align with company budgets?  \n",
    "\n",
    "Here we compare **freelancer hourly rates** (from their profiles) with **company hourly budgets**.  \n"
   ]
  },
  {
   "cell_type": "code",
   "execution_count": null,
   "id": "92688620-0f2a-4e26-a57f-a60c2d2fc815",
   "metadata": {},
   "outputs": [],
   "source": [
    "freelancers['rate_per_hour'] = pd.to_numeric(freelancers['rate_per_hour'], errors='coerce')\n",
    "\n",
    "freelancers['total_earnings'] = (\n",
    "    freelancers['total_earnings']\n",
    "    .astype(str)\n",
    "    .str.replace(r'[^0-9]', '', regex=True)   # keep digits only\n",
    "    .replace('', '0').astype(int)\n",
    ")\n",
    "\n",
    "company_hourly_exp = hourly_experience_level.groupby('experience_level')['salary'].mean()\n",
    "\n",
    "freelancer_hourly_tier = freelancers.groupby('earning_tier')['rate_per_hour'].mean()\n",
    "\n",
    "fig, (ax1, ax2) = plt.subplots(1, 2, figsize=(14,6))\n",
    "\n",
    "company_hourly_exp.plot(kind=\"bar\", color=\"steelblue\", edgecolor=\"black\", ax=ax1)\n",
    "ax1.set_title(\"Company Budgets by Experience Level\")\n",
    "ax1.set_ylabel(\"Average Hourly Rate\")\n",
    "ax1.set_xlabel(\"Experience Level\")\n",
    "ax1.tick_params(axis=\"x\", rotation=45)\n",
    "\n",
    "# Plot freelancers\n",
    "freelancer_hourly_tier.plot(kind=\"bar\", color=\"salmon\", edgecolor=\"black\", ax=ax2)\n",
    "ax2.set_title(\"Freelancer Rates by Earnings Tier\")\n",
    "ax2.set_ylabel(\"Average Hourly Rate\")\n",
    "ax2.set_xlabel(\"Earning Tier\")\n",
    "ax2.tick_params(axis=\"x\", rotation=45)\n",
    "\n",
    "plt.suptitle(\"Company Budgets vs Freelancer Rates (Hourly)\", fontsize=16)\n",
    "plt.tight_layout()\n",
    "plt.show()\n",
    "\n"
   ]
  },
  {
   "cell_type": "markdown",
   "id": "6b0595e1-5e49-4c3a-8af5-0ca96ceabb8e",
   "metadata": {},
   "source": [
    "**Observation:**  \n",
    "- Companies scale budgets by **experience level of jobs** (Entry → Intermediate → Expert).  \n",
    "- Freelancers increase their rates by **proven earnings tier** (Low → Expert earners).  \n",
    "- The two don’t align perfectly — companies think in terms of *role difficulty*, freelancers think in terms of *track record*.  \n",
    "- This mismatch explains why some freelancers struggle to land jobs despite high rates: their personal history doesn’t always map onto how companies define experience.  \n",
    "\n",
    "📌 *Takeaway:* Freelancers should be aware that clients judge value by **role** more than by **past earnings**. Positioning skills to match job-level expectations is key.  \n"
   ]
  },
  {
   "cell_type": "markdown",
   "id": "4d50c6cc-5845-42cb-8865-d03a2ebfb3d2",
   "metadata": {},
   "source": [
    "\n",
    "### How much does salary vary at each experience level?  \n",
    "\n",
    "Finally, boxplots reveal the **spread of salaries** by experience.  \n"
   ]
  },
  {
   "cell_type": "code",
   "execution_count": null,
   "id": "1511095a-29f4-436e-a99a-5826d9331df1",
   "metadata": {},
   "outputs": [],
   "source": [
    "salary_by_exp = jobs.dropna(subset=['experience_level', 'salary'])\n",
    "\n",
    "fig, ax = plt.subplots(figsize=(8,5))\n",
    "sns.boxplot(\n",
    "    data=salary_by_exp, \n",
    "    x=\"experience_level\", \n",
    "    y=\"salary\", \n",
    "    palette=\"Blues\", \n",
    "    hue = \"payment_type\",\n",
    "    showfliers=True,\n",
    "    ax=ax\n",
    ")\n",
    "\n",
    "ax.set_title(\"Salary Distribution by Experience Level (Company Budgets)\")\n",
    "ax.set_ylabel(\"Salary (log scale)\")\n",
    "ax.set_xlabel(\"Experience Level\")\n",
    "ax.set_yscale(\"log\")\n",
    "ax.tick_params(axis=\"x\", rotation=45)\n",
    "\n",
    "plt.tight_layout()\n",
    "plt.show()\n"
   ]
  },
  {
   "cell_type": "markdown",
   "id": "6eac445a-8da5-42fb-bdd0-4a90a95cc16d",
   "metadata": {},
   "source": [
    "\n",
    "**Observations:**  \n",
    "- Entry-level = predictable, clustered low.  \n",
    "- Intermediate = widest spread, covering both mid-sized and high-budget jobs.  \n",
    "- Expert = higher hourly rates, meaning reputation drives the premium.  \n",
    "\n",
    "📌 *Takeaway:* The real volatility lives in **intermediate contracts**, where some projects are small, others are huge.  \n"
   ]
  },
  {
   "cell_type": "markdown",
   "id": "985683a0-bdec-48df-9716-13176849df0c",
   "metadata": {},
   "source": [
    "## Ratings & Companies\n",
    "\n",
    "In freelancing, success depends not only on skills and contracts but also on who you work with.\n",
    "Some companies offer great pay but poor freelancer satisfaction, while others are rated highly for collaboration.\n",
    "On the flip side, freelancers also differ — those charging more may only work with trusted clients.\n",
    "\n",
    "This section explores how company ratings and freelancer dynamics shape opportunities."
   ]
  },
  {
   "cell_type": "markdown",
   "id": "32653d40-434b-445a-adad-6d8b2315c324",
   "metadata": {},
   "source": [
    "#### What percentage of jobs are Hourly vs Fixed?\n",
    "#### Do high-rated companies prefer Hourly or Fixed?\n",
    "\n",
    "- Before diving deeper, we start with the basics: is the freelancing market built more on hourly collaborations or on fixed-price projects?\n",
    "- A logical next question: do the best-rated companies (those freelancers want to work with) lean more toward hourly or fixed-price contracts?"
   ]
  },
  {
   "cell_type": "code",
   "execution_count": null,
   "id": "5fe2e23d-f437-43ad-ba7e-6ca140c4671d",
   "metadata": {},
   "outputs": [],
   "source": [
    "high_rated = jobs[jobs['rating'] >= 4.9]\n",
    "payment_counts = high_rated['payment_type'].value_counts()\n",
    "job_payment = jobs['payment_type'].value_counts()\n",
    "\n",
    "fig, (ax1, ax2) = plt.subplots(nrows=1, ncols=2, figsize=(15, 6))\n",
    "\n",
    "ax1.pie(job_payment, autopct='%1.1f%%', startangle=90 ,explode = (0.1,0), colors=[\"skyblue\", \"lightgreen\"],wedgeprops = {'edgecolor' : 'black','linewidth': 1,'antialiased' : True})\n",
    "ax1.set_title(\"Available Jobs per Payment Type\")\n",
    "\n",
    "ax2.pie(payment_counts, autopct='%1.1f%%', startangle=90, explode = (0.1,0), wedgeprops = {'edgecolor' : 'black','linewidth': 1,'antialiased' : True})\n",
    "#ax2.bar(payment_counts.index, payment_counts.values, color=['skyblue', 'salmon'])\n",
    "ax2.set_title(\"Payment Type in High-Rated Companies\")\n",
    "ax2.set_ylabel(\"Count\")\n",
    "\n",
    "plt.tight_layout()\n",
    "plt.show()"
   ]
  },
  {
   "cell_type": "markdown",
   "id": "fff2aade-9b3b-43ff-ae2a-3db068c6b63e",
   "metadata": {},
   "source": [
    "- Hourly contracts make up nearly 80% of all jobs.\n",
    "This dominance shows that freelancing is built on continuous work and collaboration, rather than small, one-off fixed projects.\n",
    "For freelancers starting out, this means most opportunities will be hourly.\n",
    "- High-rated companies strongly prefer hourly contracts, reflecting their interest in long-term partnerships rather than quick, transactional projects.\n",
    "Still, fixed-price projects remain relevant — even trusted clients use them when tasks are clearly defined and scoped."
   ]
  },
  {
   "cell_type": "markdown",
   "id": "ba9d3a0c-234c-4f0a-93a8-0d5c51810935",
   "metadata": {},
   "source": [
    "#### Are top tier Freelancer often associate with companies?\n",
    "some freelancer tend to work in a team maybe called \"solution companies\""
   ]
  },
  {
   "cell_type": "code",
   "execution_count": null,
   "id": "d6e40a12-ce7b-426a-aa56-c5909c6bb824",
   "metadata": {},
   "outputs": [],
   "source": [
    "# Count freelancers by earning tier and association status\n",
    "exp_company = freelancers.groupby('earning_tier')['is_associated_with_company'].value_counts().unstack().fillna(0)\n",
    "\n",
    "# Plot stacked horizontal bars\n",
    "ax = exp_company.plot(\n",
    "    kind=\"barh\", stacked=True, figsize=(12,6),\n",
    "    colormap=\"tab20c\", edgecolor=\"black\"\n",
    ")\n",
    "\n",
    "plt.title(\"Freelancer Association with Companies by Earning Tier\", fontsize=14)\n",
    "plt.xlabel(\"Number of Freelancers\", fontsize=12)\n",
    "plt.ylabel(\"Earning Tier\", fontsize=12)\n",
    "\n",
    "# Add legend\n",
    "plt.legend(title=\"Associated with Company\", labels=[\"No\", \"Yes\"], bbox_to_anchor=(1.05, 1), loc='upper left')\n",
    "\n",
    "plt.tight_layout()\n",
    "plt.show()\n"
   ]
  },
  {
   "cell_type": "markdown",
   "id": "167685a0-932c-4d31-b8ef-45c275775f50",
   "metadata": {},
   "source": [
    "*Experts tend to work in teams this explains their high earnings due to working with a team accelarate getting the job done.*"
   ]
  },
  {
   "cell_type": "markdown",
   "id": "e2420edf-616a-405d-b90d-ca60883742b5",
   "metadata": {},
   "source": [
    "#### Which countries have the best-rated companies?"
   ]
  },
  {
   "cell_type": "code",
   "execution_count": null,
   "id": "33aabdc0-e6d7-4a48-b7fe-90bc9650c9d6",
   "metadata": {},
   "outputs": [],
   "source": [
    "filtered = jobs.dropna(subset=['rating'])\n",
    "top_ratings_countries = filtered.groupby('location')['rating'].mean().sort_values(ascending=True)\n",
    "\n",
    "fig, ax = plt.subplots(figsize=(20,8))\n",
    "ax.plot(top_ratings_countries.index, top_ratings_countries.values, marker=\"o\", color=\"green\")\n",
    "ax.set(title=\"Average Rating per Country\", xlabel=\"Countries\", ylabel=\"Ratings\")\n",
    "ax.tick_params(axis='x', rotation=45)\n",
    "\n",
    "for country in list(top_ratings_countries.head(3).index) + list(top_ratings_countries.tail(3).index):\n",
    "    ax.text(country, top_ratings_countries[country], f\"{round(top_ratings_countries[country],2)}\", fontsize=9)\n",
    "\n",
    "fig.tight_layout()\n",
    "plt.show()\n"
   ]
  },
  {
   "cell_type": "markdown",
   "id": "c2d1718a-a68f-425c-aabf-bcc65570b9d0",
   "metadata": {},
   "source": [
    "Not all high-paying regions have the best ratings. Some countries combine strong pay and good freelancer satisfaction, while others pay well but score lower in trust. Freelancers should weigh earning potential vs client quality when choosing markets."
   ]
  },
  {
   "cell_type": "markdown",
   "id": "6e0604d6-8d92-4946-8e24-6c4e9ca620a5",
   "metadata": {},
   "source": [
    "### 🚀 Conclusion: Building an AI Freelance Career  \n",
    "\n",
    "This analysis shows that the AI freelance market is both promising and competitive:  \n",
    "\n",
    "- **Skills**: Python, AI, and ML are the essential toolkit. Supporting skills (e.g., JavaScript, APIs) help bridge modeling and deployment.  \n",
    "- **Geography**: Opportunities cluster in the US, UK, and India, but remote work ensures global access.  \n",
    "- **Contracts**: Hourly dominates and is the entry point, while fixed-price projects unlock higher earning potential as freelancers gain trust.  \n",
    "- **Experience**: There’s room for newcomers, but the steepest salary growth happens as you move from entry-level → intermediate.  \n",
    "- **Clients**: High-rated companies prefer hourly contracts, valuing collaboration, while fixed contracts remain important for defined projects.  \n",
    "\n",
    " **Actionable Takeaway:**  \n",
    "For someone starting an AI freelance career, the best path is:  \n",
    "1. **Master Python + ML fundamentals.**  \n",
    "2. **Begin with Fixed entry-level projects** to build reputation and client trust.  \n",
    "3. **Transition to Hourly jobs** that showcase full ownership of solutions.  \n",
    "4. **Layer in specialized skills** (like AI frameworks or deployment tools) to unlock higher pay.  \n"
   ]
  },
  {
   "cell_type": "markdown",
   "id": "f834b5ba-00ff-4c0d-8c7b-180bf2c90b24",
   "metadata": {},
   "source": [
    "## Appendix"
   ]
  },
  {
   "cell_type": "markdown",
   "id": "02c08125-7be7-44cc-8449-fce0c33df9f2",
   "metadata": {},
   "source": [
    "### Freelanceing Beasts\n",
    "This section is concerned with those top 1% freelancers. I am going to visualize some charts on freelancers that total earnings exceeded 500,000 to see what does they have that make them distiguishable than others? Is it their different skills? Is it their Advanced teams? let's see."
   ]
  },
  {
   "cell_type": "markdown",
   "id": "2d100654-4d57-4954-aae7-8abe6e863de1",
   "metadata": {},
   "source": [
    "#### What is common in the top freelancers?\n",
    "I want to know what is a must that every top freelancer should have to get there.                                                                        \n",
    "Do they all have high rate per hour? or do they come from one country? "
   ]
  },
  {
   "cell_type": "code",
   "execution_count": null,
   "id": "2338a646-7d74-41bf-b4eb-fd8409e5e157",
   "metadata": {},
   "outputs": [],
   "source": [
    "top_earners = freelancers[freelancers[\"total_earnings\"] > 500000].copy()\n",
    "\n",
    "fig, axes = plt.subplots(2, 2, figsize=(15,10))\n",
    "fig.suptitle(\"Profiles of Freelancers with $500k+ Earnings\", fontsize=16, weight=\"bold\")\n",
    "\n",
    "# Hourly rate\n",
    "axes[0,0].bar(top_earners['ID'], top_earners['rate_per_hour'], color=\"teal\", edgecolor=\"black\")\n",
    "axes[0,0].set_title(\"Hourly Rate ($)\")\n",
    "axes[0,0].set_ylabel(\"Rate\")\n",
    "axes[0,0].tick_params(axis='x', rotation=45)\n",
    "\n",
    "# Total jobs\n",
    "axes[0,1].bar(top_earners['ID'], top_earners['total_jobs'], color=\"orange\", edgecolor=\"black\")\n",
    "axes[0,1].set_title(\"Total Jobs\")\n",
    "axes[0,1].set_ylabel(\"Jobs\")\n",
    "axes[0,1].tick_params(axis='x', rotation=45)\n",
    "\n",
    "# Total hours\n",
    "axes[1,0].bar(top_earners['ID'], top_earners['total_hours'], color=\"steelblue\", edgecolor=\"black\")\n",
    "axes[1,0].set_title(\"Total Hours Worked\")\n",
    "axes[1,0].set_ylabel(\"Hours\")\n",
    "axes[1,0].tick_params(axis='x', rotation=45)\n",
    "\n",
    "# Avg fixed per job\n",
    "axes[1,1].bar(top_earners['ID'], top_earners['avg_fixed_per_job'], color=\"green\", edgecolor=\"black\")\n",
    "axes[1,1].set_title(\"Average Fixed Pay per Job ($)\")\n",
    "axes[1,1].set_ylabel(\"Avg Fixed\")\n",
    "axes[1,1].tick_params(axis='x', rotation=45)\n",
    "\n",
    "plt.tight_layout(rect=[0,0,1,0.95])\n",
    "plt.show()\n",
    "\n",
    "all_top_skills = top_earners['skills'].explode().str.strip().str.lower().value_counts().head(15)\n",
    "\n",
    "fig, ax = plt.subplots(figsize=(10,6))\n",
    "all_top_skills.plot(kind=\"barh\", color=\"purple\", edgecolor=\"black\", ax=ax)\n",
    "ax.set_title(\"Top Skills among $500k+ Freelancers\")\n",
    "ax.set_xlabel(\"Frequency\")\n",
    "plt.gca().invert_yaxis()\n",
    "plt.tight_layout()\n",
    "plt.show()\n"
   ]
  },
  {
   "cell_type": "markdown",
   "id": "243e4454-04f3-4565-9427-10f1dd51a506",
   "metadata": {},
   "source": [
    "- Their hourly rate varies from *`40$/hr`  to  `100$/hr`* which is a huge gap. this means that your rate per isn't what make you a top tier freelancer.\n",
    "- It's not total jobs either some freelancers work a big number of jobs maybe less time and less total payment and others make a little number of jobs with many hours in.\n",
    "- Maybe skills because all of them do ai agent development , but also it's maybe 1 or 2 skills that are common which make it unlikely.\n",
    "- As it's said \"consistency is the key\" all of them worked 8000+ hours which is huge number\n",
    "\n",
    "*Conlusion* : It's not about anything than consistency that top tier freelancers. Those top 1% put in a lot of hours of hard work to get to where they are now\n"
   ]
  },
  {
   "cell_type": "markdown",
   "id": "a4a5201e-b751-4cdb-bf86-49249ee06d75",
   "metadata": {},
   "source": [
    "### Arab concerned section\n",
    "As an Egyption engineer I would like to know more about my region. While freelancing is borderless working with those who talk with my same native language and have simillar timing to mine would be easier"
   ]
  },
  {
   "cell_type": "markdown",
   "id": "31b24a06-2c48-4802-8b5a-85a0e707ed95",
   "metadata": {},
   "source": [
    "#### What are the skills most wanted in Middle eastern region?\n",
    "In this plot I am going to show the most wanted skill by job postings and most skills that freelancers have."
   ]
  },
  {
   "cell_type": "code",
   "execution_count": null,
   "id": "37acfe51-a2eb-4353-9188-9434f739f709",
   "metadata": {},
   "outputs": [],
   "source": [
    "arab_jobs = jobs[jobs['location'].isin(['United Arab Emirates', 'Saudi Arabia', 'Bahrain'])]\n",
    "arab_freelancers = freelancers[freelancers['location'].isin(['United Arab Emirates', 'Saudi Arabia', 'Egypt',  'Algeria', 'Tunisia', 'Morocco'])]\n",
    "\n",
    "arab_job_skills = arab_jobs['skills'].explode().value_counts().head(10)\n",
    "\n",
    "arab_freelancer_skills = arab_freelancers['skills'].explode().value_counts().head(10)\n",
    "\n",
    "# Combine into comparison dataframe\n",
    "skills_compare = pd.concat([\n",
    "    arab_job_skills.rename(\"Jobs\"),\n",
    "    arab_freelancer_skills.rename(\"Freelancers\")\n",
    "], axis=1).fillna(0).astype(int)\n",
    "\n",
    "# Normalize to percentages for fair comparison\n",
    "skills_compare_pct = skills_compare.div(skills_compare.sum(axis=0), axis=1) * 100\n",
    "\n",
    "# Plot side-by-side bars\n",
    "ax = skills_compare_pct.plot(kind=\"bar\", figsize=(12,6), width=0.8, edgecolor=\"black\")\n",
    "plt.title(\"Top 10 Skills: Jobs vs Freelancers (%)\", fontsize=14)\n",
    "plt.ylabel(\"Percentage of Listings\", fontsize=12)\n",
    "plt.xticks(rotation=45, ha=\"right\")\n",
    "plt.legend()\n",
    "plt.tight_layout()\n",
    "plt.show()\n"
   ]
  },
  {
   "cell_type": "markdown",
   "id": "0f052a71-7557-48e2-bd3d-8b839a50b983",
   "metadata": {},
   "source": [
    "*Observations:*                                                                                                                                          \n",
    "-While the fundemental skills are found in global and regional basis (`Python` , `ML`,..), there is also some skills that may differ from region to another.(`AI image editig` , `AI image generation`,..)                                                                                                   \n",
    "-As you can see here their is concernation about Ai image in company'side and freelancer's side. Which show that requriments change from one region to another                                                                                                                                                  \n",
    "-You can see that also freelancers have AI Image skill which show that most search in their region first before exploring others."
   ]
  },
  {
   "cell_type": "code",
   "execution_count": null,
   "id": "271fa1fc-0450-4ebf-81fa-288fe30d2916",
   "metadata": {},
   "outputs": [],
   "source": [
    "jobs.head()"
   ]
  },
  {
   "cell_type": "code",
   "execution_count": null,
   "id": "291806ca-754d-4bc3-b5fc-ca1d77a8a05a",
   "metadata": {},
   "outputs": [],
   "source": [
    "arab_freelancers"
   ]
  },
  {
   "cell_type": "code",
   "execution_count": null,
   "id": "1ea3ef20-b5f1-47be-bcfe-2020014a98dd",
   "metadata": {},
   "outputs": [],
   "source": [
    "fig, ax = plt.subplots(figsize=(10,6))\n",
    "scatter = ax.scatter(\n",
    "    freelancers['total_jobs'], freelancers['total_earnings'],\n",
    "    c=freelancers['rate_per_hour'], cmap=\"viridis\", alpha=0.7, edgecolor=\"k\"\n",
    ")\n",
    "\n",
    "ax.set_title(\"Freelancer Work Intensity: Jobs vs Earnings\", fontsize=14)\n",
    "ax.set_xlabel(\"Total Jobs\", fontsize=12)\n",
    "ax.set_ylabel(\"Total Earnings ($)\", fontsize=12)\n",
    "ax.set_yscale(\"log\")\n",
    "\n",
    "# Add colorbar for hourly rate\n",
    "cbar = plt.colorbar(scatter)\n",
    "cbar.set_label(\"Hourly Rate ($)\")\n",
    "\n",
    "plt.tight_layout()\n",
    "plt.show()\n"
   ]
  },
  {
   "cell_type": "code",
   "execution_count": null,
   "id": "8a95e8c6-84b3-421a-98a0-56bd9d1d5650",
   "metadata": {},
   "outputs": [],
   "source": []
  }
 ],
 "metadata": {
  "kernelspec": {
   "display_name": "Python 3 (ipykernel)",
   "language": "python",
   "name": "python3"
  },
  "language_info": {
   "codemirror_mode": {
    "name": "ipython",
    "version": 3
   },
   "file_extension": ".py",
   "mimetype": "text/x-python",
   "name": "python",
   "nbconvert_exporter": "python",
   "pygments_lexer": "ipython3",
   "version": "3.13.5"
  }
 },
 "nbformat": 4,
 "nbformat_minor": 5
}
